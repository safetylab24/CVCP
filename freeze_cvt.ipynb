{
 "cells": [
  {
   "cell_type": "code",
   "execution_count": null,
   "metadata": {},
   "outputs": [],
   "source": [
    "from pathlib import Path\n",
    "\n",
    "from cross_view_transformer.common import load_backbone\n",
    "\n",
    "\n",
    "# Download a pretrained model (13 Mb)\n",
    "VEHICLE_MODEL_URL = 'https://www.cs.utexas.edu/~bzhou/cvt/cvt_nuscenes_vehicles_50k.ckpt'\n",
    "VEHICLE_CHECKPOINT_PATH = '../logs/cvt_nuscenes_vehicles_50k.ckpt'\n",
    "\n",
    "ROAD_MODEL_URL = 'https://www.cs.utexas.edu/~bzhou/cvt/cvt_nuscenes_road_75k.ckpt'\n",
    "ROAD_CHECKPOINT_PATH = '../logs/cvt_nuscenes_road_75k.ckpt'\n",
    "\n",
    "!mkdir -p $(dirname ${VEHICLE_CHECKPOINT_PATH})\n",
    "!wget $VEHICLE_MODEL_URL -O $VEHICLE_CHECKPOINT_PATH\n",
    "!wget $ROAD_MODEL_URL -O $ROAD_CHECKPOINT_PATH\n",
    "\n",
    "\n",
    "vehicle_network = load_backbone(VEHICLE_CHECKPOINT_PATH)\n",
    "road_network = load_backbone(ROAD_CHECKPOINT_PATH)"
   ]
  }
 ],
 "metadata": {
  "language_info": {
   "name": "python"
  }
 },
 "nbformat": 4,
 "nbformat_minor": 2
}
